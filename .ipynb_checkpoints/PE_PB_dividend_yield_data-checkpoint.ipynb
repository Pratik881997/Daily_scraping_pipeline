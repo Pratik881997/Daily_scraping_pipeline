{
 "cells": [
  {
   "cell_type": "code",
   "execution_count": 24,
   "metadata": {},
   "outputs": [],
   "source": [
    "import mysql.connector as mariadb\n",
    "from selenium.webdriver import PhantomJS\n",
    "import time\n",
    "import datetime"
   ]
  },
  {
   "cell_type": "code",
   "execution_count": 25,
   "metadata": {},
   "outputs": [],
   "source": [
    "config = {\n",
    "  'database': 'destimate',\n",
    "  'host': 'localhost',\n",
    "  'user': 'root',\n",
    "  'password': 'root',\n",
    "}\n",
    "\n",
    "conn = mariadb.connect(**config)\n",
    "cur = conn.cursor()"
   ]
  },
  {
   "cell_type": "code",
   "execution_count": 26,
   "metadata": {},
   "outputs": [
    {
     "name": "stdout",
     "output_type": "stream",
     "text": [
      "2020-06-01\n"
     ]
    }
   ],
   "source": [
    "url = 'https://www.assetapex.com/nifty-pe-ratio-chart/'\n",
    "\n",
    "# driver = Chrome('chromedriver.exe')\n",
    "driver = PhantomJS(\"phantomjs.exe\")\n",
    "driver.maximize_window()\n",
    "driver.get(url)\n",
    "time.sleep(2)\n",
    "\n",
    "scrape_date = datetime.date.today()\n",
    "print(scrape_date)\n",
    "\n",
    "tr = driver.find_element_by_xpath('//*[@id=\"tablepress-4\"]/tbody/tr')\n",
    "tds = tr.find_elements_by_tag_name('td')\n",
    "\n",
    "pe = tds[1].text\n",
    "pb = tds[2].text\n",
    "dividend_yield = tds[3].text"
   ]
  },
  {
   "cell_type": "code",
   "execution_count": 27,
   "metadata": {},
   "outputs": [],
   "source": [
    "cur.execute(\"select * from PE_PB_dividend_yield_data where scrape_date='\" + str(scrape_date) + \"';\")\n",
    "x = cur.fetchall()\n",
    "\n",
    "if len(x) >= 1:\n",
    "    sys.exit(0)\n",
    "else:    \n",
    "    cur.execute(\"INSERT INTO PE_PB_dividend_yield_data(scrape_date,PE,PB,dividend_yeild) VALUES ('\" + str(scrape_date) + \"',\" + str(pe) + \",\" + str(pb) + \",\" + str(dividend_yield) + \")\")\n",
    "    conn.commit()"
   ]
  },
  {
   "cell_type": "code",
   "execution_count": 28,
   "metadata": {},
   "outputs": [
    {
     "name": "stdout",
     "output_type": "stream",
     "text": [
      "Record inserted\n"
     ]
    }
   ],
   "source": [
    "print(\"Record inserted\")"
   ]
  },
  {
   "cell_type": "code",
   "execution_count": null,
   "metadata": {},
   "outputs": [],
   "source": []
  }
 ],
 "metadata": {
  "kernelspec": {
   "display_name": "Python 3",
   "language": "python",
   "name": "python3"
  },
  "language_info": {
   "codemirror_mode": {
    "name": "ipython",
    "version": 3
   },
   "file_extension": ".py",
   "mimetype": "text/x-python",
   "name": "python",
   "nbconvert_exporter": "python",
   "pygments_lexer": "ipython3",
   "version": "3.7.4"
  }
 },
 "nbformat": 4,
 "nbformat_minor": 2
}
